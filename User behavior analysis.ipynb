{
 "cells": [
  {
   "cell_type": "markdown",
   "metadata": {},
   "source": [
    "# User behavior investigation for a food startup"
   ]
  },
  {
   "cell_type": "markdown",
   "metadata": {},
   "source": [
    "We need to investigate user behavior for the company's app.\n",
    "\n",
    "1. First study the sales funnel. Find out how users reach the purchase stage. How many users actually make it to this stage? How many get stuck at previous stages? Which stages in particular?\n",
    "2. Then look at the results of an A/A/B test. The designers would like to change the fonts for the entire app, but the managers are afraid the users might find the new design intimidating. They decide to make a decision based on the results of an A/A/B test.\n",
    "\n",
    "The users are split into three groups: two control groups get the old fonts and one test group gets the new ones. Let's find out which set of fonts produces better results.\n"
   ]
  },
  {
   "cell_type": "markdown",
   "metadata": {},
   "source": [
    "<a id='top'></a>"
   ]
  },
  {
   "cell_type": "markdown",
   "metadata": {},
   "source": [
    "# Contents\n",
    "\n",
    "1. [Step 1. Open the data file and read the general information](#step1)\n",
    "2. [Step 2. Prepare the data for analysis](#step2)\n",
    "3. [Step 3. Study and check the data](#step3)\n",
    "\n",
    "    - [How many events are in the logs?](#eventsnum)\n",
    "    - [How many users are in the logs?](#usersnum)\n",
    "    - [What's the average number of events per user?](#avevperuser)\n",
    "    - [What period of time does the data cover? Find the maximum and the minimum date. Plot a histogram by date and time. Can you be sure that you have equally complete data for the entire period? Older events could end up in some users' logs for technical reasons, and this could skew the overall picture. Find the moment at which the data starts to be complete and ignore the earlier section. What period does the data actually represent?](#period)\n",
    "    - [Did you lose many events and users when excluding the older data?](#lose)\n",
    "    - [Make sure you have users from all three experimental groups.](#check)\n",
    "\n",
    "\n",
    "4. [Step 4. Study the event funnel](#step4)\n",
    "    - [See what events are in the logs and their frequency of occurrence. Sort them by frequency](#step4.1)\n",
    "    - [Find the number of users who performed each of these actions. Sort the events by the number of users. Calculate the proportion of users who performed the action at least once.](#step4.2)\n",
    "    - [In what order do you think the actions took place. Are all of them part of a single sequence? You don't need to take them into account when calculating the funnel.](#step4.3)\n",
    "    - [Use the event funnel to find the share of users that proceed from each stage to the next. (For instance, for the sequence of events A → B → C, calculate the ratio of users at stage B to the number of users at stage A and the ratio of users at stage C to the number at stage B.)](#step4.4)\n",
    "    - [At what stage do you lose the most users?](#step4.5)\n",
    "    - [What share of users make the entire journey from their first event to payment?](#step4.6)\n",
    "\n",
    "\n",
    "5. [Step 5. Study the results of the experiment](#step5)\n",
    "\n",
    "    - [How many users are there in each group?](#step5.1)\n",
    "    - [We have two control groups in the A/A test, where we check our mechanisms and calculations. See if there is a statistically significant difference between samples 246 and 247.](#step5.2)\n",
    "    - [Select the most popular event. In each of the control groups, find the number of users who performed this action. Find their share. Check whether the difference between the groups is statistically significant. Repeat the procedure for all other events (it will save time if you create a special function for this test). Can you confirm that the groups were split properly?](#step5.3)\n",
    "    - [Do the same thing for the group with altered fonts. Compare the results with those of each of the control groups for each event in isolation. Compare the results with the combined results for the control groups. What conclusions can you draw from the experiment?](#step5.4)\n",
    "    - [What significance level have you set to test the statistical hypotheses mentioned above? Calculate how many statistical hypothesis tests you carried out. With a statistical significance level of 0.1, one in 10 results could be false. What should the significance level be? If you want to change it, run through the previous steps again and check your conclusions.](#step5.5)\n",
    "6. [Conclusions](#con)    "
   ]
  },
  {
   "cell_type": "markdown",
   "metadata": {},
   "source": [
    "### <a id='step1'>Step 1. Open the data file and read the general information</a>\n",
    "\n",
    "[🔝 To contents](#top)"
   ]
  },
  {
   "cell_type": "code",
   "execution_count": 1,
   "metadata": {},
   "outputs": [],
   "source": [
    "import pandas as pd\n",
    "from scipy import stats as st\n",
    "import numpy as np\n",
    "import math as mth\n",
    "import matplotlib.pyplot as plt\n",
    "from pandas.plotting import register_matplotlib_converters\n",
    "register_matplotlib_converters()"
   ]
  },
  {
   "cell_type": "code",
   "execution_count": 2,
   "metadata": {},
   "outputs": [],
   "source": [
    "# load the data\n",
    "events = pd.read_csv('logs_exp_us.csv', sep='\\t')"
   ]
  },
  {
   "cell_type": "code",
   "execution_count": 3,
   "metadata": {},
   "outputs": [
    {
     "name": "stdout",
     "output_type": "stream",
     "text": [
      "<class 'pandas.core.frame.DataFrame'>\n",
      "RangeIndex: 244126 entries, 0 to 244125\n",
      "Data columns (total 4 columns):\n",
      " #   Column          Non-Null Count   Dtype \n",
      "---  ------          --------------   ----- \n",
      " 0   EventName       244126 non-null  object\n",
      " 1   DeviceIDHash    244126 non-null  int64 \n",
      " 2   EventTimestamp  244126 non-null  int64 \n",
      " 3   ExpId           244126 non-null  int64 \n",
      "dtypes: int64(3), object(1)\n",
      "memory usage: 7.5+ MB\n"
     ]
    }
   ],
   "source": [
    "# get the general info\n",
    "events.info()"
   ]
  },
  {
   "cell_type": "code",
   "execution_count": 4,
   "metadata": {},
   "outputs": [
    {
     "data": {
      "text/html": [
       "<div>\n",
       "<style scoped>\n",
       "    .dataframe tbody tr th:only-of-type {\n",
       "        vertical-align: middle;\n",
       "    }\n",
       "\n",
       "    .dataframe tbody tr th {\n",
       "        vertical-align: top;\n",
       "    }\n",
       "\n",
       "    .dataframe thead th {\n",
       "        text-align: right;\n",
       "    }\n",
       "</style>\n",
       "<table border=\"1\" class=\"dataframe\">\n",
       "  <thead>\n",
       "    <tr style=\"text-align: right;\">\n",
       "      <th></th>\n",
       "      <th>EventName</th>\n",
       "      <th>DeviceIDHash</th>\n",
       "      <th>EventTimestamp</th>\n",
       "      <th>ExpId</th>\n",
       "    </tr>\n",
       "  </thead>\n",
       "  <tbody>\n",
       "    <tr>\n",
       "      <th>0</th>\n",
       "      <td>MainScreenAppear</td>\n",
       "      <td>4575588528974610257</td>\n",
       "      <td>1564029816</td>\n",
       "      <td>246</td>\n",
       "    </tr>\n",
       "    <tr>\n",
       "      <th>1</th>\n",
       "      <td>MainScreenAppear</td>\n",
       "      <td>7416695313311560658</td>\n",
       "      <td>1564053102</td>\n",
       "      <td>246</td>\n",
       "    </tr>\n",
       "    <tr>\n",
       "      <th>2</th>\n",
       "      <td>PaymentScreenSuccessful</td>\n",
       "      <td>3518123091307005509</td>\n",
       "      <td>1564054127</td>\n",
       "      <td>248</td>\n",
       "    </tr>\n",
       "    <tr>\n",
       "      <th>3</th>\n",
       "      <td>CartScreenAppear</td>\n",
       "      <td>3518123091307005509</td>\n",
       "      <td>1564054127</td>\n",
       "      <td>248</td>\n",
       "    </tr>\n",
       "    <tr>\n",
       "      <th>4</th>\n",
       "      <td>PaymentScreenSuccessful</td>\n",
       "      <td>6217807653094995999</td>\n",
       "      <td>1564055322</td>\n",
       "      <td>248</td>\n",
       "    </tr>\n",
       "  </tbody>\n",
       "</table>\n",
       "</div>"
      ],
      "text/plain": [
       "                 EventName         DeviceIDHash  EventTimestamp  ExpId\n",
       "0         MainScreenAppear  4575588528974610257      1564029816    246\n",
       "1         MainScreenAppear  7416695313311560658      1564053102    246\n",
       "2  PaymentScreenSuccessful  3518123091307005509      1564054127    248\n",
       "3         CartScreenAppear  3518123091307005509      1564054127    248\n",
       "4  PaymentScreenSuccessful  6217807653094995999      1564055322    248"
      ]
     },
     "execution_count": 4,
     "metadata": {},
     "output_type": "execute_result"
    }
   ],
   "source": [
    "# look at the data piece\n",
    "events.head()"
   ]
  },
  {
   "cell_type": "code",
   "execution_count": 5,
   "metadata": {},
   "outputs": [
    {
     "data": {
      "text/plain": [
       "MainScreenAppear           119205\n",
       "OffersScreenAppear          46825\n",
       "CartScreenAppear            42731\n",
       "PaymentScreenSuccessful     34313\n",
       "Tutorial                     1052\n",
       "Name: EventName, dtype: int64"
      ]
     },
     "execution_count": 5,
     "metadata": {},
     "output_type": "execute_result"
    }
   ],
   "source": [
    "# check the counts for event names\n",
    "events['EventName'].value_counts()"
   ]
  },
  {
   "cell_type": "markdown",
   "metadata": {},
   "source": [
    "### Conclusion\n",
    "\n",
    "Well, seems there're no null values. The dataframe contains 4 columns:\n",
    "- Event name\n",
    "- Unique user id\n",
    "- Event timestamp (in UNIX format)\n",
    "- Group id\n",
    "\n",
    "We need a data type conversion for the timestamp (to datetime) and event name (to category) fields."
   ]
  },
  {
   "cell_type": "markdown",
   "metadata": {},
   "source": [
    "### <a id='step2'>Step 2. Prepare the data for analysis</a>\n",
    "\n",
    "[🔝 To contents](#top)\n",
    "\n",
    "- Rename the columns \n"
   ]
  },
  {
   "cell_type": "code",
   "execution_count": 6,
   "metadata": {},
   "outputs": [],
   "source": [
    "# renaming the columns\n",
    "events.columns = ['event','user','timestamp', 'group']"
   ]
  },
  {
   "cell_type": "markdown",
   "metadata": {},
   "source": [
    "- Check for missing values and data types. Correct the data if needed\n",
    "\n",
    "[🔝 To contents](#top)"
   ]
  },
  {
   "cell_type": "code",
   "execution_count": 7,
   "metadata": {},
   "outputs": [
    {
     "data": {
      "text/plain": [
       "event        0\n",
       "user         0\n",
       "timestamp    0\n",
       "group        0\n",
       "dtype: int64"
      ]
     },
     "execution_count": 7,
     "metadata": {},
     "output_type": "execute_result"
    }
   ],
   "source": [
    "# check for missing values\n",
    "events.isna().sum()"
   ]
  },
  {
   "cell_type": "code",
   "execution_count": 8,
   "metadata": {},
   "outputs": [],
   "source": [
    "# make conversions: timestamp to datetime and event to category\n",
    "events['timestamp'] = pd.to_datetime(events['timestamp'], unit='s')\n",
    "events['event'] = events['event'].astype('category')"
   ]
  },
  {
   "cell_type": "code",
   "execution_count": 9,
   "metadata": {},
   "outputs": [
    {
     "data": {
      "text/html": [
       "<div>\n",
       "<style scoped>\n",
       "    .dataframe tbody tr th:only-of-type {\n",
       "        vertical-align: middle;\n",
       "    }\n",
       "\n",
       "    .dataframe tbody tr th {\n",
       "        vertical-align: top;\n",
       "    }\n",
       "\n",
       "    .dataframe thead th {\n",
       "        text-align: right;\n",
       "    }\n",
       "</style>\n",
       "<table border=\"1\" class=\"dataframe\">\n",
       "  <thead>\n",
       "    <tr style=\"text-align: right;\">\n",
       "      <th></th>\n",
       "      <th>event</th>\n",
       "      <th>user</th>\n",
       "      <th>timestamp</th>\n",
       "      <th>group</th>\n",
       "    </tr>\n",
       "  </thead>\n",
       "  <tbody>\n",
       "    <tr>\n",
       "      <th>0</th>\n",
       "      <td>MainScreenAppear</td>\n",
       "      <td>4575588528974610257</td>\n",
       "      <td>2019-07-25 04:43:36</td>\n",
       "      <td>246</td>\n",
       "    </tr>\n",
       "    <tr>\n",
       "      <th>1</th>\n",
       "      <td>MainScreenAppear</td>\n",
       "      <td>7416695313311560658</td>\n",
       "      <td>2019-07-25 11:11:42</td>\n",
       "      <td>246</td>\n",
       "    </tr>\n",
       "    <tr>\n",
       "      <th>2</th>\n",
       "      <td>PaymentScreenSuccessful</td>\n",
       "      <td>3518123091307005509</td>\n",
       "      <td>2019-07-25 11:28:47</td>\n",
       "      <td>248</td>\n",
       "    </tr>\n",
       "    <tr>\n",
       "      <th>3</th>\n",
       "      <td>CartScreenAppear</td>\n",
       "      <td>3518123091307005509</td>\n",
       "      <td>2019-07-25 11:28:47</td>\n",
       "      <td>248</td>\n",
       "    </tr>\n",
       "    <tr>\n",
       "      <th>4</th>\n",
       "      <td>PaymentScreenSuccessful</td>\n",
       "      <td>6217807653094995999</td>\n",
       "      <td>2019-07-25 11:48:42</td>\n",
       "      <td>248</td>\n",
       "    </tr>\n",
       "  </tbody>\n",
       "</table>\n",
       "</div>"
      ],
      "text/plain": [
       "                     event                 user           timestamp  group\n",
       "0         MainScreenAppear  4575588528974610257 2019-07-25 04:43:36    246\n",
       "1         MainScreenAppear  7416695313311560658 2019-07-25 11:11:42    246\n",
       "2  PaymentScreenSuccessful  3518123091307005509 2019-07-25 11:28:47    248\n",
       "3         CartScreenAppear  3518123091307005509 2019-07-25 11:28:47    248\n",
       "4  PaymentScreenSuccessful  6217807653094995999 2019-07-25 11:48:42    248"
      ]
     },
     "execution_count": 9,
     "metadata": {},
     "output_type": "execute_result"
    }
   ],
   "source": [
    "# check how data looks after conversions\n",
    "events.head()"
   ]
  },
  {
   "cell_type": "code",
   "execution_count": 10,
   "metadata": {},
   "outputs": [
    {
     "data": {
      "text/plain": [
       "count                  244126\n",
       "unique                 176654\n",
       "top       2019-08-04 16:23:19\n",
       "freq                        9\n",
       "first     2019-07-25 04:43:36\n",
       "last      2019-08-07 21:15:17\n",
       "Name: timestamp, dtype: object"
      ]
     },
     "execution_count": 10,
     "metadata": {},
     "output_type": "execute_result"
    }
   ],
   "source": [
    "# check the values for timestamp\n",
    "events['timestamp'].describe()"
   ]
  },
  {
   "cell_type": "markdown",
   "metadata": {},
   "source": [
    "The data covers the period from 25.07.2019 to 07.08.2019"
   ]
  },
  {
   "cell_type": "code",
   "execution_count": 11,
   "metadata": {},
   "outputs": [
    {
     "data": {
      "text/plain": [
       "array([246, 248, 247], dtype=int64)"
      ]
     },
     "execution_count": 11,
     "metadata": {},
     "output_type": "execute_result"
    }
   ],
   "source": [
    "# check values for group field\n",
    "events['group'].unique()"
   ]
  },
  {
   "cell_type": "code",
   "execution_count": 12,
   "metadata": {},
   "outputs": [
    {
     "data": {
      "text/plain": [
       "0"
      ]
     },
     "execution_count": 12,
     "metadata": {},
     "output_type": "execute_result"
    }
   ],
   "source": [
    "# Let's check that there are no users simultaneously belonging to both groups\n",
    "# slice user hashes from A1 and A2 groups\n",
    "groupA1 = events[events['group']==246]['user'].unique()\n",
    "groupA2 = events[events['group']==247]['user'].unique()\n",
    "\n",
    "# check A1 has no intersections with A2 or B\n",
    "events.query(\"((group==247)|(group==248)) & (user in @groupA1)\")['user'].nunique()\n"
   ]
  },
  {
   "cell_type": "code",
   "execution_count": 13,
   "metadata": {},
   "outputs": [
    {
     "data": {
      "text/plain": [
       "0"
      ]
     },
     "execution_count": 13,
     "metadata": {},
     "output_type": "execute_result"
    }
   ],
   "source": [
    "# check A2 has no intersections with B\n",
    "events.query(\"(group==248) & (user in @groupA2)\")['user'].nunique()\n"
   ]
  },
  {
   "cell_type": "code",
   "execution_count": 14,
   "metadata": {},
   "outputs": [
    {
     "data": {
      "text/plain": [
       "413"
      ]
     },
     "execution_count": 14,
     "metadata": {},
     "output_type": "execute_result"
    }
   ],
   "source": [
    "# check for duplicates\n",
    "events.duplicated().sum()"
   ]
  },
  {
   "cell_type": "markdown",
   "metadata": {},
   "source": [
    "Let's keep the duplicated records as in practice the user could tap the same screen several times per second resulting in the same event during a second."
   ]
  },
  {
   "cell_type": "markdown",
   "metadata": {},
   "source": [
    "- Add a date and time column and a separate column for dates\n",
    "\n",
    "[🔝 To contents](#top)"
   ]
  },
  {
   "cell_type": "code",
   "execution_count": 15,
   "metadata": {},
   "outputs": [],
   "source": [
    "# extract dates into a separate column\n",
    "events['date'] = events['timestamp'].dt.date\n",
    "events['time'] = events['timestamp'].dt.time"
   ]
  },
  {
   "cell_type": "markdown",
   "metadata": {},
   "source": [
    "## Conclusion:\n",
    "    \n",
    "1. There're no missing values in the dataset.\n",
    "2. There're some duplicates but we assume the user could tap the same screen several times per second resulting in the same event tracked twice or more.\n",
    "3. The data covers the period from 25.07.2019 to 07.08.2019 \n",
    "4. The data looks correct (no intersections between the groups)    \n"
   ]
  },
  {
   "cell_type": "markdown",
   "metadata": {},
   "source": [
    "### <a id='step3'>Step 3. Study and check the data</a>\n",
    "\n",
    "[🔝 To contents](#top)"
   ]
  },
  {
   "cell_type": "markdown",
   "metadata": {},
   "source": [
    "<a id='eventsnum'>\n",
    "<ul><li>How many events are in the logs?</li></ul></a>\n",
    "\n",
    "We already saw at the step 1 that there're **5 event types** and totally **244 126 events** for all 3 groups."
   ]
  },
  {
   "cell_type": "code",
   "execution_count": 16,
   "metadata": {},
   "outputs": [
    {
     "data": {
      "text/plain": [
       "244126"
      ]
     },
     "execution_count": 16,
     "metadata": {},
     "output_type": "execute_result"
    }
   ],
   "source": [
    "# let's get the number of events\n",
    "events_num = events.shape[0]\n",
    "events_num"
   ]
  },
  {
   "cell_type": "markdown",
   "metadata": {},
   "source": [
    "<a id='usersnum'>\n",
    "<ul><li> How many users are in the logs?</li></ul></a>\n",
    "\n",
    "[🔝 To contents](#top)"
   ]
  },
  {
   "cell_type": "code",
   "execution_count": 17,
   "metadata": {},
   "outputs": [
    {
     "data": {
      "text/plain": [
       "7551"
      ]
     },
     "execution_count": 17,
     "metadata": {},
     "output_type": "execute_result"
    }
   ],
   "source": [
    "# let's count how many unique users are in the logs (totally)\n",
    "users_num = events['user'].nunique()\n",
    "users_num"
   ]
  },
  {
   "cell_type": "markdown",
   "metadata": {},
   "source": [
    "<a id='avevperuser'>\n",
    "<ul><li>What's the average number of events per user? </li></ul></a>  \n",
    "\n",
    "[🔝 To contents](#top)"
   ]
  },
  {
   "cell_type": "code",
   "execution_count": 18,
   "metadata": {},
   "outputs": [
    {
     "data": {
      "text/plain": [
       "32.33028737915508"
      ]
     },
     "execution_count": 18,
     "metadata": {},
     "output_type": "execute_result"
    }
   ],
   "source": [
    "# average number of events per user\n",
    "events_per_user_ave = events_num/users_num\n",
    "events_per_user_ave"
   ]
  },
  {
   "cell_type": "markdown",
   "metadata": {},
   "source": [
    "<a id='period'>\n",
    "<ul><li>What period of time does the data cover? Find the maximum and the minimum date. Plot a histogram by date and time. Can you be sure that you have equally complete data for the entire period? Older events could end up in some users' logs for technical reasons, and this could skew the overall picture. Find the moment at which the data starts to be complete and ignore the earlier section. What period does the data actually represent?</li></ul></a>   \n",
    "\n",
    "[🔝 To contents](#top)"
   ]
  },
  {
   "cell_type": "markdown",
   "metadata": {},
   "source": [
    "As we saw in the step 2 the data covers the period from 25.07.2019 to 07.08.2019. Let's plot the histogram."
   ]
  },
  {
   "cell_type": "code",
   "execution_count": 19,
   "metadata": {},
   "outputs": [
    {
     "data": {
      "image/png": "[encoded data removed]",
      "text/plain": [
       "<Figure size 432x288 with 1 Axes>"
      ]
     },
     "metadata": {
      "needs_background": "light"
     },
     "output_type": "display_data"
    }
   ],
   "source": [
    "# Plotting the histogram for the dates\n",
    "ax = events['date'].hist(bins = 14)\n",
    "b = plt.xticks(rotation='45')\n",
    "b = plt.xlabel(\"date\")\n",
    "b = plt.ylabel(\"count\")\n",
    "b = plt.suptitle(\"Dates distribution\")"
   ]
  },
  {
   "cell_type": "markdown",
   "metadata": {},
   "source": [
    "Mainly the events occured for the period from 01.08.2019 till 07.08.2019. We assume the previous data was gathered due to technical reasons and we'll ignore it not to skew the overall picture.\n",
    "\n"
   ]
  },
  {
   "cell_type": "code",
   "execution_count": 20,
   "metadata": {},
   "outputs": [],
   "source": [
    "# make slice for dates from 1st of August\n",
    "events = events[events['timestamp']>='2019-08-01']"
   ]
  },
  {
   "cell_type": "markdown",
   "metadata": {},
   "source": [
    "Let's check the time distibution."
   ]
  },
  {
   "cell_type": "code",
   "execution_count": 21,
   "metadata": {},
   "outputs": [
    {
     "data": {
      "image/png": "[encoded data removed]",
      "text/plain": [
       "<Figure size 432x288 with 1 Axes>"
      ]
     },
     "metadata": {
      "needs_background": "light"
     },
     "output_type": "display_data"
    }
   ],
   "source": [
    "# Plotting the histogram for the time\n",
    "ax = events['timestamp'].dt.hour.hist(bins=23)\n",
    "b = plt.xticks()\n",
    "b = plt.xlabel(\"hour\")\n",
    "b = plt.ylabel(\"count\")\n",
    "b = plt.suptitle(\"Times distribution\")"
   ]
  },
  {
   "cell_type": "code",
   "execution_count": 22,
   "metadata": {},
   "outputs": [
    {
     "data": {
      "text/plain": [
       "count    241298.000000\n",
       "mean         12.215563\n",
       "std           4.952312\n",
       "min           0.000000\n",
       "25%           9.000000\n",
       "50%          13.000000\n",
       "75%          16.000000\n",
       "max          23.000000\n",
       "Name: timestamp, dtype: float64"
      ]
     },
     "execution_count": 22,
     "metadata": {},
     "output_type": "execute_result"
    }
   ],
   "source": [
    "# get statistics for the hours distribution\n",
    "events['timestamp'].dt.hour.describe()"
   ]
  },
  {
   "cell_type": "markdown",
   "metadata": {},
   "source": [
    "We see that max load hours last from ~14:00 to ~16:00 (2 hours) and the main activity lasts from ~09:00 to ~17:00"
   ]
  },
  {
   "cell_type": "markdown",
   "metadata": {},
   "source": [
    "<a id='lose'>\n",
    "<ul><li>Did you lose many events and users when excluding the older data?\n",
    "</li></ul></a>   \n",
    "\n",
    "[🔝 To contents](#top)"
   ]
  },
  {
   "cell_type": "code",
   "execution_count": 23,
   "metadata": {},
   "outputs": [
    {
     "data": {
      "text/plain": [
       "241298"
      ]
     },
     "execution_count": 23,
     "metadata": {},
     "output_type": "execute_result"
    }
   ],
   "source": [
    "# Check events and users one more time\n",
    "events_num_new = events.shape[0]\n",
    "events_num_new"
   ]
  },
  {
   "cell_type": "code",
   "execution_count": 24,
   "metadata": {},
   "outputs": [
    {
     "data": {
      "text/plain": [
       "7534"
      ]
     },
     "execution_count": 24,
     "metadata": {},
     "output_type": "execute_result"
    }
   ],
   "source": [
    "# new number of users\n",
    "users_num_new = events['user'].nunique()\n",
    "users_num_new"
   ]
  },
  {
   "cell_type": "code",
   "execution_count": 25,
   "metadata": {},
   "outputs": [
    {
     "name": "stdout",
     "output_type": "stream",
     "text": [
      "We lost 1.16% events and 0.23% users\n"
     ]
    }
   ],
   "source": [
    "# Calculate the percentage of the lost users and events\n",
    "print('We lost {:.2%} events and {:.2%} users'.format(\n",
    "    (events_num - events_num_new)/events_num, \n",
    "     (users_num - users_num_new)/users_num))"
   ]
  },
  {
   "cell_type": "markdown",
   "metadata": {},
   "source": [
    "<a id='check'>\n",
    "<ul><li>Make sure you have users from all three experimental groups.</li></ul></a>  \n",
    "\n",
    "[🔝 To contents](#top)"
   ]
  },
  {
   "cell_type": "code",
   "execution_count": 26,
   "metadata": {},
   "outputs": [
    {
     "data": {
      "text/plain": [
       "group\n",
       "246    2484\n",
       "247    2513\n",
       "248    2537\n",
       "Name: user, dtype: int64"
      ]
     },
     "execution_count": 26,
     "metadata": {},
     "output_type": "execute_result"
    }
   ],
   "source": [
    "# count for each group unique users\n",
    "events.groupby('group')['user'].nunique()"
   ]
  },
  {
   "cell_type": "markdown",
   "metadata": {},
   "source": [
    "The number of users in each group is close to each other."
   ]
  },
  {
   "cell_type": "markdown",
   "metadata": {},
   "source": [
    "## Conclusion:\n",
    "    \n",
    "1. There're 5 event types and totally 244 126 events for all 3 groups.\n",
    "2. The average number of events per user is ~32.\n",
    "3. The data covers the period from 25.07.2019 to 07.08.2019 \n",
    "4. Mainly the events occured for the period from 01.08.2019 till 07.08.2019. We assume the previous data was gathered due to technical reasons and we'll ignore it not to skew the overall picture.\n",
    "5. We filterd out the data from 25.07.2019 to 31.07.2019. We lost 1.16% events and 0.23% users so we can drop this data.\n",
    "6. The number of users in each group is close to each other and is around ~2500 users.    \n"
   ]
  },
  {
   "cell_type": "markdown",
   "metadata": {},
   "source": [
    "### <a id='step4'>Step 4. Study the event funnel</a>\n",
    "\n",
    "[🔝 To contents](#top)"
   ]
  },
  {
   "cell_type": "markdown",
   "metadata": {},
   "source": [
    "<a id='step4.1'>\n",
    "<ul><li>See what events are in the logs and their frequency of occurrence. Sort them by frequency.</li></ul></a> \n"
   ]
  },
  {
   "cell_type": "code",
   "execution_count": 27,
   "metadata": {},
   "outputs": [
    {
     "data": {
      "text/plain": [
       "MainScreenAppear           117431\n",
       "OffersScreenAppear          46350\n",
       "CartScreenAppear            42365\n",
       "PaymentScreenSuccessful     34113\n",
       "Tutorial                     1039\n",
       "Name: event, dtype: int64"
      ]
     },
     "execution_count": 27,
     "metadata": {},
     "output_type": "execute_result"
    }
   ],
   "source": [
    "# check the frequencies for event names once again\n",
    "events['event'].value_counts().sort_values(ascending=False)"
   ]
  },
  {
   "cell_type": "markdown",
   "metadata": {},
   "source": [
    "The most popular event is Main screen, the least popular is tutorial."
   ]
  },
  {
   "cell_type": "markdown",
   "metadata": {},
   "source": [
    "<a id='step4.2'>\n",
    "<ul><li>Find the number of users who performed each of these actions. Sort the events by the number of users. Calculate the proportion of users who performed the action at least once.</li></ul></a> \n",
    "\n",
    "[🔝 To contents](#top)"
   ]
  },
  {
   "cell_type": "code",
   "execution_count": 28,
   "metadata": {},
   "outputs": [
    {
     "data": {
      "text/plain": [
       "event\n",
       "MainScreenAppear           7419\n",
       "OffersScreenAppear         4593\n",
       "CartScreenAppear           3734\n",
       "PaymentScreenSuccessful    3539\n",
       "Tutorial                    840\n",
       "Name: user, dtype: int64"
      ]
     },
     "execution_count": 28,
     "metadata": {},
     "output_type": "execute_result"
    }
   ],
   "source": [
    "# group by event and get unique users for each event\n",
    "events_by_users  = events.groupby('event')['user'].nunique().sort_values(ascending=False)\n",
    "events_by_users"
   ]
  },
  {
   "cell_type": "markdown",
   "metadata": {},
   "source": [
    "Similar to previous calculations: Main screen is the leader while tutorial is the outsider."
   ]
  },
  {
   "cell_type": "code",
   "execution_count": 29,
   "metadata": {},
   "outputs": [
    {
     "data": {
      "text/plain": [
       "event\n",
       "MainScreenAppear           0.984736\n",
       "OffersScreenAppear         0.609636\n",
       "CartScreenAppear           0.495620\n",
       "PaymentScreenSuccessful    0.469737\n",
       "Tutorial                   0.111495\n",
       "Name: user, dtype: float64"
      ]
     },
     "execution_count": 29,
     "metadata": {},
     "output_type": "execute_result"
    }
   ],
   "source": [
    "# get the proportion of users for each action\n",
    "events_by_users / users_num_new"
   ]
  },
  {
   "cell_type": "markdown",
   "metadata": {},
   "source": [
    "<a id='step4.3'>\n",
    "<ul><li>In what order do you think the actions took place. Are all of them part of a single sequence? You don't need to take them into account when calculating the funnel.</li></ul></a> \n",
    "\n",
    "[🔝 To contents](#top)"
   ]
  },
  {
   "cell_type": "markdown",
   "metadata": {},
   "source": [
    "From the above it's obvious that the first screen which almost all users supposed to see in the app is the Main screen. \n",
    "\n",
    "The overall event sequence is:\n",
    "\n",
    "    MainScreenAppear → OffersScreenAppear → CartScreenAppear → PaymentScreenSuccessful\n",
    "\n",
    "Tutorial is not in the chain of events as it's not mandatory for any step."
   ]
  },
  {
   "cell_type": "markdown",
   "metadata": {},
   "source": [
    "<a id='step4.4'>\n",
    "<ul><li>Use the event funnel to find the share of users that proceed from each stage to the next. (For instance, for the sequence of events A → B → C, calculate the ratio of users at stage B to the number of users at stage A and the ratio of users at stage C to the number at stage B.)</li></ul></a>\n",
    "\n",
    "[🔝 To contents](#top)"
   ]
  },
  {
   "cell_type": "code",
   "execution_count": 30,
   "metadata": {},
   "outputs": [
    {
     "name": "stdout",
     "output_type": "stream",
     "text": [
      "Ratio of users at offer stage: 0.62\n",
      "Ratio of users at cart stage: 0.81\n",
      "Ratio of users at successful payment stage: 0.95\n"
     ]
    }
   ],
   "source": [
    "# First, let's look at a simple funnel (not sequenced events)\n",
    "offer2main = events_by_users['OffersScreenAppear']/events_by_users['MainScreenAppear']\n",
    "cart2offer = events_by_users['CartScreenAppear']/events_by_users['OffersScreenAppear']\n",
    "pay2cart = events_by_users['PaymentScreenSuccessful']/events_by_users['CartScreenAppear']\n",
    "print('Ratio of users at offer stage: {:>.2}'.format(offer2main))\n",
    "print('Ratio of users at cart stage: {:>.2}'.format(cart2offer))\n",
    "print('Ratio of users at successful payment stage: {:>.2}'.format(pay2cart))"
   ]
  },
  {
   "cell_type": "markdown",
   "metadata": {},
   "source": [
    "Now let's calculate the same for the sequenced events funnel\n"
   ]
  },
  {
   "cell_type": "code",
   "execution_count": 31,
   "metadata": {},
   "outputs": [],
   "source": [
    "# define a function to get a sequenced events funnel\n",
    "def get_funnel(events):\n",
    "    # build a pivot table with user ids as rows and events as columns containing \n",
    "    # the first event date\n",
    "    users = events.pivot_table(\n",
    "    index='user', \n",
    "    columns='event', \n",
    "    values='timestamp',\n",
    "    aggfunc='min') \n",
    "    \n",
    "    # build conditions for each step\n",
    "    step_1 = ~users['MainScreenAppear'].isna()\n",
    "    step_2 = step_1 & (users['OffersScreenAppear'] > users['MainScreenAppear'])\n",
    "    step_3 = step_2 & (users['CartScreenAppear'] > users['OffersScreenAppear'])\n",
    "    step_4 = step_3 & (users['PaymentScreenSuccessful'] > users['CartScreenAppear'])\n",
    "\n",
    "    # slice according the conditions and get the size\n",
    "    n_main = users[step_1].shape[0]\n",
    "    n_offer = users[step_2].shape[0]\n",
    "    n_cart = users[step_3].shape[0]\n",
    "    n_payment = users[step_4].shape[0]\n",
    "    \n",
    "    # separately get unique users for tutorial though it's out of scope\n",
    "    n_tutorial = events[events['event']=='Tutorial']['user'].nunique()\n",
    "    # build Series to return\n",
    "    funnel = pd.Series({'MainScreenAppear':n_main, 'OffersScreenAppear':n_offer,\n",
    "                       'CartScreenAppear':n_cart, 'PaymentScreenSuccessful':n_payment, \n",
    "                        'Tutorial':n_tutorial})\n",
    "    return funnel"
   ]
  },
  {
   "cell_type": "code",
   "execution_count": 32,
   "metadata": {},
   "outputs": [
    {
     "data": {
      "text/plain": [
       "MainScreenAppear           7419\n",
       "OffersScreenAppear         4201\n",
       "CartScreenAppear           1767\n",
       "PaymentScreenSuccessful     454\n",
       "Tutorial                    840\n",
       "dtype: int64"
      ]
     },
     "execution_count": 32,
     "metadata": {},
     "output_type": "execute_result"
    }
   ],
   "source": [
    "# call the function and get the values\n",
    "funnel = get_funnel(events)\n",
    "funnel"
   ]
  },
  {
   "cell_type": "code",
   "execution_count": 33,
   "metadata": {},
   "outputs": [
    {
     "name": "stdout",
     "output_type": "stream",
     "text": [
      "Ratio of users at offer stage: 0.57\n",
      "Ratio of users at cart stage: 0.42\n",
      "Ratio of users at successful payment stage: 0.26\n"
     ]
    }
   ],
   "source": [
    "# Recalculate the ratios for the sequenced events\n",
    "n_main = funnel.loc['MainScreenAppear']\n",
    "n_offer = funnel.loc['OffersScreenAppear']\n",
    "n_cart = funnel.loc['CartScreenAppear']\n",
    "n_payment = funnel.loc['PaymentScreenSuccessful']\n",
    "\n",
    "offer2main = n_offer/n_main\n",
    "cart2offer = n_cart/n_offer\n",
    "pay2cart = n_payment/n_cart\n",
    "\n",
    "print('Ratio of users at offer stage: {:>.2}'.format(offer2main))\n",
    "print('Ratio of users at cart stage: {:>.2}'.format(cart2offer))\n",
    "print('Ratio of users at successful payment stage: {:>.2}'.format(pay2cart))\n"
   ]
  },
  {
   "cell_type": "markdown",
   "metadata": {},
   "source": [
    "<a id='step4.5'>\n",
    "<ul><li>At what stage do you lose the most users?</li></ul></a>\n",
    "\n",
    "[🔝 To contents](#top)"
   ]
  },
  {
   "cell_type": "markdown",
   "metadata": {},
   "source": [
    "We see that we've got completely different numbers because the simple funnel does not take into account the sequence of events.\n",
    "\n",
    "It's clear that we lose the most users at the last stage (we get just 26% conversion) though coversions to offer and cart screens are also not high."
   ]
  },
  {
   "cell_type": "markdown",
   "metadata": {},
   "source": [
    "<a id='step4.6'>\n",
    "<ul><li>What share of users make the entire journey from their first event to payment?</li></ul></a>\n",
    "\n",
    "[🔝 To contents](#top)"
   ]
  },
  {
   "cell_type": "code",
   "execution_count": 34,
   "metadata": {},
   "outputs": [
    {
     "name": "stdout",
     "output_type": "stream",
     "text": [
      "The share of users from the 1st event to payment: 0.06\n"
     ]
    }
   ],
   "source": [
    "print('The share of users from the 1st event to payment: {:>.2}'.format(n_payment/users_num_new))"
   ]
  },
  {
   "cell_type": "markdown",
   "metadata": {},
   "source": [
    "Only 6% of users go through the entire journey from the main screen via offer and cart screens to the payment screen."
   ]
  },
  {
   "cell_type": "markdown",
   "metadata": {},
   "source": [
    "Now let's consider all unique users who reached the successful payment stage no matter what was their first event and event chain.\n",
    "We just need to take users proportion from the simple funnel (already calculated above).    \n",
    "    \n",
    "Let's repeat that step here:    \n",
    " "
   ]
  },
  {
   "cell_type": "code",
   "execution_count": 35,
   "metadata": {},
   "outputs": [
    {
     "data": {
      "text/plain": [
       "event\n",
       "MainScreenAppear           0.984736\n",
       "OffersScreenAppear         0.609636\n",
       "CartScreenAppear           0.495620\n",
       "PaymentScreenSuccessful    0.469737\n",
       "Tutorial                   0.111495\n",
       "Name: user, dtype: float64"
      ]
     },
     "execution_count": 35,
     "metadata": {},
     "output_type": "execute_result"
    }
   ],
   "source": [
    "# get the proportion of users for each action\n",
    "events_by_users / users_num_new\n"
   ]
  },
  {
   "cell_type": "markdown",
   "metadata": {},
   "source": [
    "## Conclusion\n",
    "\n",
    "We've got ~46.97% of users that somehow reached the last stage. \n",
    "    "
   ]
  },
  {
   "cell_type": "markdown",
   "metadata": {},
   "source": [
    "\n",
    "1. The most popular event is Main screen as it's the first event in the sequence, the least popular is tutorial as it's an optional step.\n",
    "2. The overall event sequence is:\n",
    "\n",
    "    MainScreenAppear → OffersScreenAppear → CartScreenAppear → PaymentScreenSuccessful\n",
    "\n",
    "Tutorial is not in the chain of events as it's not mandatory for any step.\n",
    "3. We lose the most users at the last stage (we get just 26% conversion) though coversions to offer and cart screens are also not high. \n",
    "    \n",
    "4. Only 6% of users go through the entire journey from the 1st Main screen to the last payment screen\n",
    "5. We've got ~46.97% of users that somehow reached the last (payment stage) stage (not necessary going through the all screens in the chain).    \n"
   ]
  },
  {
   "cell_type": "markdown",
   "metadata": {},
   "source": [
    "### <a id='step5'>Step 5. Study the results of the experiment</a>\n",
    "\n",
    "[🔝 To contents](#top)"
   ]
  },
  {
   "cell_type": "markdown",
   "metadata": {},
   "source": [
    "<a id='step5.1'>\n",
    "<ul><li>How many users are there in each group?</li></ul></a>\n"
   ]
  },
  {
   "cell_type": "code",
   "execution_count": 36,
   "metadata": {},
   "outputs": [
    {
     "data": {
      "text/plain": [
       "group\n",
       "246    2484\n",
       "247    2513\n",
       "248    2537\n",
       "Name: user, dtype: int64"
      ]
     },
     "execution_count": 36,
     "metadata": {},
     "output_type": "execute_result"
    }
   ],
   "source": [
    "# count unique users for each group\n",
    "group_users = events.groupby('group')['user'].nunique()\n",
    "group_users"
   ]
  },
  {
   "cell_type": "markdown",
   "metadata": {},
   "source": [
    "The number of users in each group is close to each other."
   ]
  },
  {
   "cell_type": "markdown",
   "metadata": {},
   "source": [
    "<a id='step5.2'>\n",
    "<ul><li>We have two control groups in the A/A test, where we check our mechanisms and calculations. See if there is a statistically significant difference between samples 246 and 247.</li></ul></a>\n",
    "\n",
    "[🔝 To contents](#top)"
   ]
  },
  {
   "cell_type": "code",
   "execution_count": 37,
   "metadata": {},
   "outputs": [
    {
     "data": {
      "text/html": [
       "<div>\n",
       "<style scoped>\n",
       "    .dataframe tbody tr th:only-of-type {\n",
       "        vertical-align: middle;\n",
       "    }\n",
       "\n",
       "    .dataframe tbody tr th {\n",
       "        vertical-align: top;\n",
       "    }\n",
       "\n",
       "    .dataframe thead th {\n",
       "        text-align: right;\n",
       "    }\n",
       "</style>\n",
       "<table border=\"1\" class=\"dataframe\">\n",
       "  <thead>\n",
       "    <tr style=\"text-align: right;\">\n",
       "      <th></th>\n",
       "      <th>246</th>\n",
       "      <th>247</th>\n",
       "      <th>248</th>\n",
       "    </tr>\n",
       "  </thead>\n",
       "  <tbody>\n",
       "    <tr>\n",
       "      <th>MainScreenAppear</th>\n",
       "      <td>2450</td>\n",
       "      <td>2476</td>\n",
       "      <td>2493</td>\n",
       "    </tr>\n",
       "    <tr>\n",
       "      <th>OffersScreenAppear</th>\n",
       "      <td>1411</td>\n",
       "      <td>1379</td>\n",
       "      <td>1411</td>\n",
       "    </tr>\n",
       "    <tr>\n",
       "      <th>CartScreenAppear</th>\n",
       "      <td>584</td>\n",
       "      <td>600</td>\n",
       "      <td>583</td>\n",
       "    </tr>\n",
       "    <tr>\n",
       "      <th>PaymentScreenSuccessful</th>\n",
       "      <td>145</td>\n",
       "      <td>144</td>\n",
       "      <td>165</td>\n",
       "    </tr>\n",
       "    <tr>\n",
       "      <th>Tutorial</th>\n",
       "      <td>278</td>\n",
       "      <td>283</td>\n",
       "      <td>279</td>\n",
       "    </tr>\n",
       "  </tbody>\n",
       "</table>\n",
       "</div>"
      ],
      "text/plain": [
       "                          246   247   248\n",
       "MainScreenAppear         2450  2476  2493\n",
       "OffersScreenAppear       1411  1379  1411\n",
       "CartScreenAppear          584   600   583\n",
       "PaymentScreenSuccessful   145   144   165\n",
       "Tutorial                  278   283   279"
      ]
     },
     "execution_count": 37,
     "metadata": {},
     "output_type": "execute_result"
    }
   ],
   "source": [
    "# Let's build a DF with rows as events and columns as groups\n",
    "# values would be sequenced events funnel values for each group\n",
    "groupA1 = get_funnel(events[events['group']==246])\n",
    "groupA2 = get_funnel(events[events['group']==247])\n",
    "groupB = get_funnel(events[events['group']==248])\n",
    "\n",
    "frame = { 246: groupA1, 247: groupA2, 248:groupB } \n",
    "funnel_grouped = pd.DataFrame(frame)\n",
    "funnel_grouped"
   ]
  },
  {
   "cell_type": "markdown",
   "metadata": {},
   "source": [
    "It seems there're no serious differences between three groups though the problematic stage (payment) user count has increased in group B by ~20 users. It can be due to the size of group B (which is slightly larger than A groups). So taking the proportions we can result in the same share.\n",
    "\n",
    "Let's make statistical tests. We'll create a function to make statistical test for proportions.\n",
    "\n",
    "**$H_0$**: There's **_no_** difference in proportion of users that reach the stage we test.\n",
    "\n",
    "**$H_a$**: There **_is_** a difference in proportion of users that reach the stage we test.\n"
   ]
  },
  {
   "cell_type": "code",
   "execution_count": 38,
   "metadata": {},
   "outputs": [],
   "source": [
    "# implement function to make a statistical test for proportions beetween \n",
    "# two groups for a certain event\n",
    "# function takes funnel DF, group ids, event name and a significance level\n",
    "# it gets the values from the table funnel_grouped (see above)\n",
    "def check_hypothesis(funnel_grouped, group1,group2, event, alpha=0.05):\n",
    "    #let's start with successes, using \n",
    "    successes1=funnel_grouped.loc[event][group1]\n",
    "    successes2=funnel_grouped.loc[event][group2]\n",
    "    \n",
    "    #for trials we use values from group_users (see above)\n",
    "    trials1=group_users.loc[group1]\n",
    "    trials2=group_users.loc[group2]\n",
    "    \n",
    "    #proportion for success in the first group\n",
    "    p1 = successes1/trials1\n",
    "\n",
    "   #proportion for success in the second group\n",
    "    p2 = successes2/trials2\n",
    "\n",
    "    # proportion in a combined dataset\n",
    "    p_combined = (successes1 + successes2) / (trials1 + trials2)\n",
    "\n",
    "# the difference between the datasets' proportions  \n",
    "    difference = p1 - p2\n",
    "    \n",
    "# calculating the statistic in standard deviations of the standard normal \n",
    "# distribution    \n",
    "    z_value = difference / mth.sqrt(p_combined * (1 - p_combined) * (1/trials1 + 1/trials2))\n",
    "\n",
    "# setting up the standard normal distribution (mean 0, standard deviation 1\n",
    "    distr = st.norm(0, 1) \n",
    "\n",
    "\n",
    "    p_value = (1 - distr.cdf(abs(z_value))) * 2\n",
    "\n",
    "    print('p-value: ', p_value)\n",
    "    \n",
    "    if (p_value < alpha):\n",
    "        print(\"Reject H0 for\",event, 'and groups',group1,group2)\n",
    "    else:\n",
    "        print(\"Fail to Reject H0 for\", event,'and groups',group1,group2)  "
   ]
  },
  {
   "cell_type": "code",
   "execution_count": 39,
   "metadata": {},
   "outputs": [
    {
     "name": "stdout",
     "output_type": "stream",
     "text": [
      "p-value:  0.8711113474158618\n",
      "Fail to Reject H0 for PaymentScreenSuccessful and groups 246 247\n"
     ]
    }
   ],
   "source": [
    "# check the function\n",
    "check_hypothesis(funnel_grouped, 246,247, 'PaymentScreenSuccessful', alpha=0.05)"
   ]
  },
  {
   "cell_type": "markdown",
   "metadata": {},
   "source": [
    "We're going to make tests for each of the event types (totally 5) to compare the proportions. \n",
    "Let's set the familywise significance level $\\alpha$ to 0.05 but for each particular test we'll need to apply a correction. Let's use the simplest **Bonferroni correction** and test each individual hypothesis at $\\alpha_i = \\alpha/5 = 0.05 / 5 = 0.01$ \n"
   ]
  },
  {
   "cell_type": "code",
   "execution_count": 40,
   "metadata": {},
   "outputs": [
    {
     "name": "stdout",
     "output_type": "stream",
     "text": [
      "Event: MainScreenAppear\n",
      "p-value:  0.7570597232046099\n",
      "Fail to Reject H0 for MainScreenAppear and groups 246 247\n",
      "\n",
      "Event: OffersScreenAppear\n",
      "p-value:  0.1697911058352899\n",
      "Fail to Reject H0 for OffersScreenAppear and groups 246 247\n",
      "\n",
      "Event: CartScreenAppear\n",
      "p-value:  0.7613480430769994\n",
      "Fail to Reject H0 for CartScreenAppear and groups 246 247\n",
      "\n",
      "Event: PaymentScreenSuccessful\n",
      "p-value:  0.8711113474158618\n",
      "Fail to Reject H0 for PaymentScreenSuccessful and groups 246 247\n",
      "\n",
      "Event: Tutorial\n",
      "p-value:  0.9376996189257114\n",
      "Fail to Reject H0 for Tutorial and groups 246 247\n",
      "\n"
     ]
    }
   ],
   "source": [
    "alpha = 0.05\n",
    "alpha_i = alpha / funnel_grouped.shape[0]\n",
    "\n",
    "for i in funnel_grouped.index:\n",
    "    print('Event:', i)\n",
    "    check_hypothesis(funnel_grouped, 246,247, i, alpha_i)\n",
    "    print()"
   ]
  },
  {
   "cell_type": "markdown",
   "metadata": {},
   "source": [
    "### Conclusion:\n",
    "\n",
    "There's no statistically significant difference between group A1 and group A2 based on **sequenced event funnel**."
   ]
  },
  {
   "cell_type": "markdown",
   "metadata": {},
   "source": [
    "<a id='step5.3'>\n",
    "<ul><li>Select the most popular event. In each of the control groups, find the number of users who performed this action. Find their share. Check whether the difference between the groups is statistically significant. Repeat the procedure for all other events (it will save time if you create a special function for this test). Can you confirm that the groups were split properly?</li></ul></a>\n",
    "\n",
    "\n",
    "[🔝 To contents](#top)"
   ]
  },
  {
   "cell_type": "markdown",
   "metadata": {},
   "source": [
    "Above we saw that MainScreenAppear event is the most popular event. Let's find the number of users that performed this event for each of the control groups."
   ]
  },
  {
   "cell_type": "code",
   "execution_count": 41,
   "metadata": {},
   "outputs": [
    {
     "name": "stdout",
     "output_type": "stream",
     "text": [
      "Group A1 share for Main screen 0.9863123993558777\n",
      "Group A2 share for Main screen 0.9852765618782332\n"
     ]
    }
   ],
   "source": [
    "# find users number for Main screen event\n",
    "main_A1 = funnel_grouped.loc['MainScreenAppear'][246]\n",
    "main_A2 = funnel_grouped.loc['MainScreenAppear'][247]\n",
    "\n",
    "#find group sizes\n",
    "sizeA1 = group_users.loc[246]\n",
    "sizeA2 = group_users.loc[247]\n",
    "\n",
    "# find users' share\n",
    "p1 = main_A1 / sizeA1\n",
    "p2 = main_A2 / sizeA2\n",
    "\n",
    "print(\"Group A1 share for Main screen\", p1)\n",
    "print(\"Group A2 share for Main screen\", p2)"
   ]
  },
  {
   "cell_type": "markdown",
   "metadata": {},
   "source": [
    "We already made a statistical test for the Main screen (see above), so let's repeat it. The only difference: we make a single hypothesis test now, so leave alpha = 0.05."
   ]
  },
  {
   "cell_type": "code",
   "execution_count": 42,
   "metadata": {},
   "outputs": [
    {
     "name": "stdout",
     "output_type": "stream",
     "text": [
      "p-value:  0.7570597232046099\n",
      "Fail to Reject H0 for MainScreenAppear and groups 246 247\n"
     ]
    }
   ],
   "source": [
    "check_hypothesis(funnel_grouped,246,247, 'MainScreenAppear')"
   ]
  },
  {
   "cell_type": "code",
   "execution_count": 43,
   "metadata": {},
   "outputs": [
    {
     "data": {
      "text/html": [
       "<div>\n",
       "<style scoped>\n",
       "    .dataframe tbody tr th:only-of-type {\n",
       "        vertical-align: middle;\n",
       "    }\n",
       "\n",
       "    .dataframe tbody tr th {\n",
       "        vertical-align: top;\n",
       "    }\n",
       "\n",
       "    .dataframe thead th {\n",
       "        text-align: right;\n",
       "    }\n",
       "</style>\n",
       "<table border=\"1\" class=\"dataframe\">\n",
       "  <thead>\n",
       "    <tr style=\"text-align: right;\">\n",
       "      <th>group</th>\n",
       "      <th>event</th>\n",
       "      <th>246</th>\n",
       "      <th>247</th>\n",
       "      <th>248</th>\n",
       "    </tr>\n",
       "  </thead>\n",
       "  <tbody>\n",
       "    <tr>\n",
       "      <th>0</th>\n",
       "      <td>CartScreenAppear</td>\n",
       "      <td>1266</td>\n",
       "      <td>1238</td>\n",
       "      <td>1230</td>\n",
       "    </tr>\n",
       "    <tr>\n",
       "      <th>1</th>\n",
       "      <td>MainScreenAppear</td>\n",
       "      <td>2450</td>\n",
       "      <td>2476</td>\n",
       "      <td>2493</td>\n",
       "    </tr>\n",
       "    <tr>\n",
       "      <th>2</th>\n",
       "      <td>OffersScreenAppear</td>\n",
       "      <td>1542</td>\n",
       "      <td>1520</td>\n",
       "      <td>1531</td>\n",
       "    </tr>\n",
       "    <tr>\n",
       "      <th>3</th>\n",
       "      <td>PaymentScreenSuccessful</td>\n",
       "      <td>1200</td>\n",
       "      <td>1158</td>\n",
       "      <td>1181</td>\n",
       "    </tr>\n",
       "    <tr>\n",
       "      <th>4</th>\n",
       "      <td>Tutorial</td>\n",
       "      <td>278</td>\n",
       "      <td>283</td>\n",
       "      <td>279</td>\n",
       "    </tr>\n",
       "  </tbody>\n",
       "</table>\n",
       "</div>"
      ],
      "text/plain": [
       "group                    event   246   247   248\n",
       "0             CartScreenAppear  1266  1238  1230\n",
       "1             MainScreenAppear  2450  2476  2493\n",
       "2           OffersScreenAppear  1542  1520  1531\n",
       "3      PaymentScreenSuccessful  1200  1158  1181\n",
       "4                     Tutorial   278   283   279"
      ]
     },
     "execution_count": 43,
     "metadata": {},
     "output_type": "execute_result"
    }
   ],
   "source": [
    "# build a pivot table with rows as events and columns as groups\n",
    "# calculate unique users for each event/group\n",
    "pivot = events.pivot_table(index='event', values='user', columns='group', aggfunc=lambda x: x.nunique()).reset_index()\n",
    "pivot"
   ]
  },
  {
   "cell_type": "code",
   "execution_count": 44,
   "metadata": {},
   "outputs": [
    {
     "data": {
      "text/html": [
       "<div>\n",
       "<style scoped>\n",
       "    .dataframe tbody tr th:only-of-type {\n",
       "        vertical-align: middle;\n",
       "    }\n",
       "\n",
       "    .dataframe tbody tr th {\n",
       "        vertical-align: top;\n",
       "    }\n",
       "\n",
       "    .dataframe thead th {\n",
       "        text-align: right;\n",
       "    }\n",
       "</style>\n",
       "<table border=\"1\" class=\"dataframe\">\n",
       "  <thead>\n",
       "    <tr style=\"text-align: right;\">\n",
       "      <th>group</th>\n",
       "      <th>246</th>\n",
       "      <th>247</th>\n",
       "      <th>248</th>\n",
       "    </tr>\n",
       "    <tr>\n",
       "      <th>event</th>\n",
       "      <th></th>\n",
       "      <th></th>\n",
       "      <th></th>\n",
       "    </tr>\n",
       "  </thead>\n",
       "  <tbody>\n",
       "    <tr>\n",
       "      <th>CartScreenAppear</th>\n",
       "      <td>1266</td>\n",
       "      <td>1238</td>\n",
       "      <td>1230</td>\n",
       "    </tr>\n",
       "    <tr>\n",
       "      <th>MainScreenAppear</th>\n",
       "      <td>2450</td>\n",
       "      <td>2476</td>\n",
       "      <td>2493</td>\n",
       "    </tr>\n",
       "    <tr>\n",
       "      <th>OffersScreenAppear</th>\n",
       "      <td>1542</td>\n",
       "      <td>1520</td>\n",
       "      <td>1531</td>\n",
       "    </tr>\n",
       "    <tr>\n",
       "      <th>PaymentScreenSuccessful</th>\n",
       "      <td>1200</td>\n",
       "      <td>1158</td>\n",
       "      <td>1181</td>\n",
       "    </tr>\n",
       "    <tr>\n",
       "      <th>Tutorial</th>\n",
       "      <td>278</td>\n",
       "      <td>283</td>\n",
       "      <td>279</td>\n",
       "    </tr>\n",
       "  </tbody>\n",
       "</table>\n",
       "</div>"
      ],
      "text/plain": [
       "group                     246   247   248\n",
       "event                                    \n",
       "CartScreenAppear         1266  1238  1230\n",
       "MainScreenAppear         2450  2476  2493\n",
       "OffersScreenAppear       1542  1520  1531\n",
       "PaymentScreenSuccessful  1200  1158  1181\n",
       "Tutorial                  278   283   279"
      ]
     },
     "execution_count": 44,
     "metadata": {},
     "output_type": "execute_result"
    }
   ],
   "source": [
    "simple_funnel_grouped = pivot.set_index('event')\n",
    "simple_funnel_grouped"
   ]
  },
  {
   "cell_type": "markdown",
   "metadata": {},
   "source": [
    "Now we're going to make tests not based on event chains but on event general popularity (simple funnel).\n",
    "\n",
    "As above we need to adjust the significance level."
   ]
  },
  {
   "cell_type": "code",
   "execution_count": 45,
   "metadata": {},
   "outputs": [
    {
     "name": "stdout",
     "output_type": "stream",
     "text": [
      "Event: CartScreenAppear\n",
      "p-value:  0.22883372237997213\n",
      "Fail to Reject H0 for CartScreenAppear and groups 246 247\n",
      "\n",
      "Event: MainScreenAppear\n",
      "p-value:  0.7570597232046099\n",
      "Fail to Reject H0 for MainScreenAppear and groups 246 247\n",
      "\n",
      "Event: OffersScreenAppear\n",
      "p-value:  0.2480954578522181\n",
      "Fail to Reject H0 for OffersScreenAppear and groups 246 247\n",
      "\n",
      "Event: PaymentScreenSuccessful\n",
      "p-value:  0.11456679313141849\n",
      "Fail to Reject H0 for PaymentScreenSuccessful and groups 246 247\n",
      "\n",
      "Event: Tutorial\n",
      "p-value:  0.9376996189257114\n",
      "Fail to Reject H0 for Tutorial and groups 246 247\n",
      "\n"
     ]
    }
   ],
   "source": [
    "alpha = 0.05\n",
    "alpha_i = alpha / simple_funnel_grouped.shape[0]\n",
    "\n",
    "for i in simple_funnel_grouped.index:\n",
    "    print('Event:', i)\n",
    "    check_hypothesis(simple_funnel_grouped, 246,247, i, alpha_i)\n",
    "    print()"
   ]
  },
  {
   "cell_type": "markdown",
   "metadata": {},
   "source": [
    "### Conclusion:\n",
    "\n",
    "There's no statistically significant difference between group A1 and group A2 based on **simple funnel** so the groups were split properly."
   ]
  },
  {
   "cell_type": "markdown",
   "metadata": {},
   "source": [
    "<a id='step5.4'>\n",
    "<ul><li>Do the same thing for the group with altered fonts. Compare the results with those of each of the control groups for each event in isolation. Compare the results with the combined results for the control groups. What conclusions can you draw from the experiment?</li></ul></a>\n",
    "\n",
    "[🔝 To contents](#top)"
   ]
  },
  {
   "cell_type": "code",
   "execution_count": 46,
   "metadata": {},
   "outputs": [
    {
     "name": "stdout",
     "output_type": "stream",
     "text": [
      "Event: MainScreenAppear\n",
      "p-value:  0.2949721933554552\n",
      "Fail to Reject H0 for MainScreenAppear and groups 246 248\n",
      "\n",
      "Event: OffersScreenAppear\n",
      "p-value:  0.20836205402738917\n",
      "Fail to Reject H0 for OffersScreenAppear and groups 246 248\n",
      "\n",
      "Event: CartScreenAppear\n",
      "p-value:  0.07842923237520116\n",
      "Fail to Reject H0 for CartScreenAppear and groups 246 248\n",
      "\n",
      "Event: PaymentScreenSuccessful\n",
      "p-value:  0.2122553275697796\n",
      "Fail to Reject H0 for PaymentScreenSuccessful and groups 246 248\n",
      "\n",
      "Event: Tutorial\n",
      "p-value:  0.8264294010087645\n",
      "Fail to Reject H0 for Tutorial and groups 246 248\n",
      "\n"
     ]
    }
   ],
   "source": [
    "# make tests for group A1 and group B.\n",
    "alpha = 0.05\n",
    "alpha_i = alpha / simple_funnel_grouped.shape[0]\n",
    "\n",
    "for i in funnel_grouped.index:\n",
    "    print('Event:', i)\n",
    "    check_hypothesis(simple_funnel_grouped, 246,248, i, alpha_i)\n",
    "    print()"
   ]
  },
  {
   "cell_type": "markdown",
   "metadata": {},
   "source": [
    "### Conclusion:\n",
    "\n",
    "There's no statistically significant difference between group A1 and group B based on **simple funnel**."
   ]
  },
  {
   "cell_type": "code",
   "execution_count": 47,
   "metadata": {},
   "outputs": [
    {
     "name": "stdout",
     "output_type": "stream",
     "text": [
      "Event: CartScreenAppear\n",
      "p-value:  0.5786197879539783\n",
      "Fail to Reject H0 for CartScreenAppear and groups 247 248\n",
      "\n",
      "Event: MainScreenAppear\n",
      "p-value:  0.4587053616621515\n",
      "Fail to Reject H0 for MainScreenAppear and groups 247 248\n",
      "\n",
      "Event: OffersScreenAppear\n",
      "p-value:  0.9197817830592261\n",
      "Fail to Reject H0 for OffersScreenAppear and groups 247 248\n",
      "\n",
      "Event: PaymentScreenSuccessful\n",
      "p-value:  0.7373415053803964\n",
      "Fail to Reject H0 for PaymentScreenSuccessful and groups 247 248\n",
      "\n",
      "Event: Tutorial\n",
      "p-value:  0.765323922474501\n",
      "Fail to Reject H0 for Tutorial and groups 247 248\n",
      "\n"
     ]
    }
   ],
   "source": [
    "# make tests for group A2 and group B.\n",
    "alpha = 0.05\n",
    "alpha_i = alpha / simple_funnel_grouped.shape[0]\n",
    "\n",
    "for i in simple_funnel_grouped.index:\n",
    "    print('Event:', i)\n",
    "    check_hypothesis(simple_funnel_grouped, 247,248, i, alpha_i)\n",
    "    print()"
   ]
  },
  {
   "cell_type": "markdown",
   "metadata": {},
   "source": [
    "### Conclusion:\n",
    "\n",
    "There's no statistically significant difference between group A2 and group B based on **simple funnel**."
   ]
  },
  {
   "cell_type": "markdown",
   "metadata": {},
   "source": [
    "<a id='step5.5'>\n",
    "<ul><li>What significance level have you set to test the statistical hypotheses mentioned above? Calculate how many statistical hypothesis tests you carried out. With a statistical significance level of 0.1, one in 10 results could be false. What should the significance level be? If you want to change it, run through the previous steps again and check your conclusions.</li></ul></a>\n",
    "\n",
    "[🔝 To contents](#top)"
   ]
  },
  {
   "cell_type": "markdown",
   "metadata": {},
   "source": [
    "If we want to make conclusions for the overall tests meaning that \n",
    "there's no significant difference between A1 and A2 **AND** between A1 and B **AND** between A2 and B we need to make further adjustments for the significance level as the overall tests number increses 3 times (each group comparison had 5 tests and now we have 3 group comparisons each made of 5 tests totally getting 15 tests).\n",
    "\n",
    "Let's make 15 tests for the sequenced events funnel (it contains the most valuable information). "
   ]
  },
  {
   "cell_type": "code",
   "execution_count": 48,
   "metadata": {},
   "outputs": [
    {
     "name": "stdout",
     "output_type": "stream",
     "text": [
      "Comparison for groups 246 247\n",
      "\n",
      "Event: MainScreenAppear\n",
      "p-value:  0.7570597232046099\n",
      "Fail to Reject H0 for MainScreenAppear and groups 246 247\n",
      "\n",
      "Event: OffersScreenAppear\n",
      "p-value:  0.1697911058352899\n",
      "Fail to Reject H0 for OffersScreenAppear and groups 246 247\n",
      "\n",
      "Event: CartScreenAppear\n",
      "p-value:  0.7613480430769994\n",
      "Fail to Reject H0 for CartScreenAppear and groups 246 247\n",
      "\n",
      "Event: PaymentScreenSuccessful\n",
      "p-value:  0.8711113474158618\n",
      "Fail to Reject H0 for PaymentScreenSuccessful and groups 246 247\n",
      "\n",
      "Event: Tutorial\n",
      "p-value:  0.9376996189257114\n",
      "Fail to Reject H0 for Tutorial and groups 246 247\n",
      "\n",
      "=================================\n",
      "Comparison for groups 246 248\n",
      "\n",
      "Event: MainScreenAppear\n",
      "p-value:  0.2949721933554552\n",
      "Fail to Reject H0 for MainScreenAppear and groups 246 248\n",
      "\n",
      "Event: OffersScreenAppear\n",
      "p-value:  0.39679135492535766\n",
      "Fail to Reject H0 for OffersScreenAppear and groups 246 248\n",
      "\n",
      "Event: CartScreenAppear\n",
      "p-value:  0.6563033863591861\n",
      "Fail to Reject H0 for CartScreenAppear and groups 246 248\n",
      "\n",
      "Event: PaymentScreenSuccessful\n",
      "p-value:  0.32664814683208254\n",
      "Fail to Reject H0 for PaymentScreenSuccessful and groups 246 248\n",
      "\n",
      "Event: Tutorial\n",
      "p-value:  0.8264294010087645\n",
      "Fail to Reject H0 for Tutorial and groups 246 248\n",
      "\n",
      "=================================\n",
      "Comparison for groups 247 248\n",
      "\n",
      "Event: MainScreenAppear\n",
      "p-value:  0.4587053616621515\n",
      "Fail to Reject H0 for MainScreenAppear and groups 247 248\n",
      "\n",
      "Event: OffersScreenAppear\n",
      "p-value:  0.5958565432040834\n",
      "Fail to Reject H0 for OffersScreenAppear and groups 247 248\n",
      "\n",
      "Event: CartScreenAppear\n",
      "p-value:  0.45227208865199175\n",
      "Fail to Reject H0 for CartScreenAppear and groups 247 248\n",
      "\n",
      "Event: PaymentScreenSuccessful\n",
      "p-value:  0.25148179887540056\n",
      "Fail to Reject H0 for PaymentScreenSuccessful and groups 247 248\n",
      "\n",
      "Event: Tutorial\n",
      "p-value:  0.765323922474501\n",
      "Fail to Reject H0 for Tutorial and groups 247 248\n",
      "\n",
      "=================================\n"
     ]
    }
   ],
   "source": [
    "alpha = 0.05\n",
    "group_comarisons = 3\n",
    "alpha_i = alpha / (group_comarisons*funnel_grouped.shape[0])\n",
    "pairs = [(246,247),(246,248),(247,248)]\n",
    "\n",
    "for group1,group2 in pairs:\n",
    "    print('Comparison for groups',group1,group2 )\n",
    "    print()\n",
    "    for i in funnel_grouped.index:\n",
    "        print('Event:', i)\n",
    "        check_hypothesis(funnel_grouped, group1,group2, i, alpha_i)\n",
    "        print()\n",
    "    print('=================================')"
   ]
  },
  {
   "cell_type": "markdown",
   "metadata": {},
   "source": [
    "### Conclusion:\n",
    "    \n",
    "1. The number of users in each group is close to each other and is ~2500 users.\n",
    "2. There's no statistically significant difference between group A1 and group A2 for simple and sequenced event funnels so the groups were split properly.\n",
    "3. There's no statistically significant difference between group A1 and group B for the simple funnel.  \n",
    "4. There's no statistically significant difference between group A2 and group B for the simple funnel.  \n",
    "5. There's no significant difference between groups A1 and A2 AND between groups A1 and B AND between A2 and B groups for the event sequenced funnel.        \n",
    "   \n"
   ]
  },
  {
   "cell_type": "markdown",
   "metadata": {},
   "source": [
    "### <a id='con'>General conclusions</a>\n",
    "[🔝 To contents](#top)\n",
    "\n",
    "I. We've studied the sales funnel and got the following:\n",
    "\n",
    "1. Based on assumptions we get several options:\n",
    "\n",
    "    1.1. We lose the most of users at the last payment stage (we get just 26% conversion) though coversions to offer and cart screens are also not high. (if several different events per second are **not** allowed).\n",
    "    \n",
    "    1.2. We lose the most of users at the cart stage (we get just 43% conversion which is the minimal value).(if several different events per second **are** allowed)\n",
    "\n",
    "2. Based on assumptions we get several options:\n",
    "\n",
    "    2.1. Only 6% of users go through the entire journey from the 1st screen to the payment screen. (if several different events per second are **not** allowed)\n",
    "\n",
    "    2.2. Only 18% of users go through the entire journey from the 1st screen to the payment screen. (if several different events per second **are** allowed)\n",
    "\n",
    "II. We've analyzed the results of A/A/B tests and conclude:\n",
    "1. The control groups A1 and A2 were split properly based on statistical tests for simple and event sequenced funnels.\n",
    "2. There's no significant difference between A1 and B groups for the simple funnel. \n",
    "3. There's no significant difference between A2 and B groups for the simple funnel. \n",
    "4. There's no significant difference between A1 and A2 **AND** between A1 and B **AND** between A2 and B groups for the event sequenced funnel.\n",
    "5. So we recommend not to implement the new fonts as there's no statistically significant difference between control and test groups."
   ]
  }
 ],
 "metadata": {
  "kernelspec": {
   "display_name": "Python 3",
   "language": "python",
   "name": "python3"
  },
  "language_info": {
   "codemirror_mode": {
    "name": "ipython",
    "version": 3
   },
   "file_extension": ".py",
   "mimetype": "text/x-python",
   "name": "python",
   "nbconvert_exporter": "python",
   "pygments_lexer": "ipython3",
   "version": "3.7.6"
  }
 },
 "nbformat": 4,
 "nbformat_minor": 2
}
